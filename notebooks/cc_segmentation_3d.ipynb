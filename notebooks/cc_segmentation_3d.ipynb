{
 "cells": [
  {
   "cell_type": "code",
   "execution_count": 1,
   "metadata": {},
   "outputs": [],
   "source": [
    "from fastai.vision.all import *\n",
    "\n",
    "sys.path.append(os.path.abspath(\"../src/\"))\n",
    "from vision_extension import * "
   ]
  },
  {
   "cell_type": "markdown",
   "metadata": {},
   "source": [
    "# 1. Looking at the data to gain insights "
   ]
  },
  {
   "cell_type": "code",
   "execution_count": 2,
   "metadata": {},
   "outputs": [],
   "source": [
    "NB_DIR = %pwd\n",
    "NB_DIR = Path(NB_DIR)\n",
    "CSV_PATH = NB_DIR/'..'/'csv'\n",
    "df = pd.read_csv(CSV_PATH/'data.csv')"
   ]
  },
  {
   "cell_type": "markdown",
   "metadata": {},
   "source": [
    "Tumor volume in ml rounded to the nearest ten. "
   ]
  },
  {
   "cell_type": "code",
   "execution_count": 3,
   "metadata": {},
   "outputs": [
    {
     "data": {
      "image/png": "[encoded data removed]",
      "text/plain": [
       "<Figure size 432x288 with 1 Axes>"
      ]
     },
     "metadata": {
      "needs_background": "light"
     },
     "output_type": "display_data"
    }
   ],
   "source": [
    "df.tumor_cat.value_counts().sort_index().plot(kind = 'bar')\n",
    "plt.show()"
   ]
  },
  {
   "cell_type": "markdown",
   "metadata": {},
   "source": [
    "# 2. Prepare the data"
   ]
  },
  {
   "cell_type": "markdown",
   "metadata": {},
   "source": [
    "There are only two scans with tumor volume > 1000 ml, these differs significantly from the other obervations. \n",
    "Hence, we remove these two scans from our dataset. "
   ]
  },
  {
   "cell_type": "code",
   "execution_count": 4,
   "metadata": {},
   "outputs": [],
   "source": [
    "df = df.loc[df.tumor_cat<1000].reset_index(drop=True)"
   ]
  },
  {
   "cell_type": "markdown",
   "metadata": {},
   "source": [
    "Split the data into train and test based on the `is_test` column predefined in our pandas DataFrame, where data independently annotated by two expert raters(R1 and R2) was marked as test data for evaluation of performance for our final model, as well as for estimation of inter-rater agreement. "
   ]
  },
  {
   "cell_type": "code",
   "execution_count": 5,
   "metadata": {},
   "outputs": [
    {
     "data": {
      "text/plain": [
       "((105, 18), (26, 18))"
      ]
     },
     "execution_count": 5,
     "metadata": {},
     "output_type": "execute_result"
    }
   ],
   "source": [
    "df_test = df.loc[df.is_test].reset_index(drop=True)\n",
    "df = df.loc[~df.is_test].reset_index(drop=True)\n",
    "df.shape, df_test.shape"
   ]
  },
  {
   "cell_type": "markdown",
   "metadata": {},
   "source": [
    "We divide the remaining data into training and validation using stratified sampling. **Note** that since we have few samples of tumors above 90, we categorize these as 90 (see cell 7). "
   ]
  },
  {
   "cell_type": "code",
   "execution_count": 6,
   "metadata": {},
   "outputs": [],
   "source": [
    "df['is_valid'] = False"
   ]
  },
  {
   "cell_type": "code",
   "execution_count": 7,
   "metadata": {},
   "outputs": [],
   "source": [
    "from sklearn.model_selection import train_test_split\n",
    "\n",
    "df.loc[df.tumor_cat >90, 'tumor_cat'] = 90\n",
    "_, val_idx = train_test_split(df.index.tolist(), test_size=0.14, random_state=40, shuffle=True, stratify=df['tumor_cat'].tolist())\n",
    "df.loc[val_idx, 'is_valid'] = True"
   ]
  },
  {
   "cell_type": "code",
   "execution_count": 8,
   "metadata": {},
   "outputs": [
    {
     "data": {
      "text/plain": [
       "False    90\n",
       "True     15\n",
       "Name: is_valid, dtype: int64"
      ]
     },
     "execution_count": 8,
     "metadata": {},
     "output_type": "execute_result"
    }
   ],
   "source": [
    "df.is_valid.value_counts()"
   ]
  },
  {
   "cell_type": "markdown",
   "metadata": {},
   "source": [
    "Load a segmentation mask saved as .pickle"
   ]
  },
  {
   "cell_type": "code",
   "execution_count": 9,
   "metadata": {},
   "outputs": [],
   "source": [
    "mask = load_pickle(df.processed_tensor_mask.to_list()[1])"
   ]
  },
  {
   "cell_type": "code",
   "execution_count": 10,
   "metadata": {},
   "outputs": [
    {
     "data": {
      "text/plain": [
       "(torch.Size([1, 144, 256, 256]), torch.Tensor, array([0., 1.], dtype=float32))"
      ]
     },
     "execution_count": 10,
     "metadata": {},
     "output_type": "execute_result"
    }
   ],
   "source": [
    "mask.shape, type(mask), np.unique(mask)"
   ]
  },
  {
   "cell_type": "markdown",
   "metadata": {},
   "source": [
    "We use the data block API to get our data in a DataLoaders. A DataBlock is built by giving a bunch of information:\n",
    "- `blocks`: here we pass our custom class PickleImage to load the preprocessed images (normalized and resized) stored as pickles files (normalized and resized) and PickleMaskBlock for segmentation masks. \n",
    "- `splitter`: split the data into training data and validation data based on `is_valid` column\n",
    "- `get_x`: Get the image path from `processed_tensor_img` column\n",
    "- `get_y`: Get the image path from `processed_tensor_mask` column\n",
    "- `item_tfms`: Used to pass in the augmentations we want to use on the fly. Defined as `None` since the data is already preprocessed. Look at the [fastai tutorial](https://docs.fast.ai/tutorial.html) to add custom augmentations."
   ]
  },
  {
   "cell_type": "code",
   "execution_count": 11,
   "metadata": {},
   "outputs": [],
   "source": [
    "dblock = DataBlock(blocks=(ImageBlock(cls=PickleImage), PickleMaskBlock()), \n",
    "                   splitter=ColSplitter('is_valid'),\n",
    "                   get_x=ColReader('processed_tensor_img'),\n",
    "                   get_y=ColReader('processed_tensor_mask'),\n",
    "                   item_tfms=None) "
   ]
  },
  {
   "cell_type": "markdown",
   "metadata": {},
   "source": [
    "Defining batch size "
   ]
  },
  {
   "cell_type": "code",
   "execution_count": 12,
   "metadata": {},
   "outputs": [],
   "source": [
    "bs = 4"
   ]
  },
  {
   "cell_type": "code",
   "execution_count": 13,
   "metadata": {},
   "outputs": [],
   "source": [
    "dls = dblock.dataloaders(df, bs=bs)"
   ]
  },
  {
   "cell_type": "markdown",
   "metadata": {
    "tags": []
   },
   "source": [
    "# 3. Create Model, Loss, Optimizer"
   ]
  },
  {
   "cell_type": "code",
   "execution_count": 14,
   "metadata": {},
   "outputs": [],
   "source": [
    "from monai.losses import DiceLoss\n",
    "from monai.networks.nets import UNet\n",
    "\n",
    "loss_func = DiceLoss(sigmoid=True) \n",
    "model = UNet(dimensions=3, in_channels=3, out_channels=1, channels=(16, 32, 64, 128, 256),strides=(2, 2, 2, 2), num_res_units=2).model"
   ]
  },
  {
   "cell_type": "code",
   "execution_count": 15,
   "metadata": {},
   "outputs": [],
   "source": [
    "opt_func = ranger"
   ]
  },
  {
   "cell_type": "code",
   "execution_count": 16,
   "metadata": {},
   "outputs": [],
   "source": [
    "learn = Learner(dls, model, loss_func=loss_func, opt_func=opt_func)"
   ]
  },
  {
   "cell_type": "markdown",
   "metadata": {},
   "source": [
    "A summary of the 3D U-Net"
   ]
  },
  {
   "cell_type": "code",
   "execution_count": 17,
   "metadata": {},
   "outputs": [
    {
     "data": {
      "text/html": [],
      "text/plain": [
       "<IPython.core.display.HTML object>"
      ]
     },
     "metadata": {},
     "output_type": "display_data"
    },
    {
     "data": {
      "text/plain": [
       "Sequential (Input shape: 4 x 3 x 144 x 256 x 256)\n",
       "============================================================================\n",
       "Layer (type)         Output Shape         Param #    Trainable \n",
       "============================================================================\n",
       "                     4 x 16 x 72 x 128 x \n",
       "Conv3d                                    1312       True      \n",
       "InstanceNorm3d                            0          False     \n",
       "Dropout                                                        \n",
       "PReLU                                     1          True      \n",
       "Conv3d                                    6928       True      \n",
       "InstanceNorm3d                            0          False     \n",
       "Dropout                                                        \n",
       "PReLU                                     1          True      \n",
       "Conv3d                                    1312       True      \n",
       "____________________________________________________________________________\n",
       "                     4 x 32 x 36 x 64 x  \n",
       "Conv3d                                    13856      True      \n",
       "InstanceNorm3d                            0          False     \n",
       "Dropout                                                        \n",
       "PReLU                                     1          True      \n",
       "Conv3d                                    27680      True      \n",
       "InstanceNorm3d                            0          False     \n",
       "Dropout                                                        \n",
       "PReLU                                     1          True      \n",
       "Conv3d                                    13856      True      \n",
       "____________________________________________________________________________\n",
       "                     4 x 64 x 18 x 32 x  \n",
       "Conv3d                                    55360      True      \n",
       "InstanceNorm3d                            0          False     \n",
       "Dropout                                                        \n",
       "PReLU                                     1          True      \n",
       "Conv3d                                    110656     True      \n",
       "InstanceNorm3d                            0          False     \n",
       "Dropout                                                        \n",
       "PReLU                                     1          True      \n",
       "Conv3d                                    55360      True      \n",
       "____________________________________________________________________________\n",
       "                     4 x 128 x 9 x 16 x  \n",
       "Conv3d                                    221312     True      \n",
       "InstanceNorm3d                            0          False     \n",
       "Dropout                                                        \n",
       "PReLU                                     1          True      \n",
       "Conv3d                                    442496     True      \n",
       "InstanceNorm3d                            0          False     \n",
       "Dropout                                                        \n",
       "PReLU                                     1          True      \n",
       "Conv3d                                    221312     True      \n",
       "____________________________________________________________________________\n",
       "                     4 x 256 x 9 x 16 x  \n",
       "Conv3d                                    884992     True      \n",
       "InstanceNorm3d                            0          False     \n",
       "Dropout                                                        \n",
       "PReLU                                     1          True      \n",
       "Conv3d                                    1769728    True      \n",
       "InstanceNorm3d                            0          False     \n",
       "Dropout                                                        \n",
       "PReLU                                     1          True      \n",
       "Conv3d                                    33024      True      \n",
       "____________________________________________________________________________\n",
       "                     4 x 64 x 18 x 32 x  \n",
       "ConvTranspose3d                           663616     True      \n",
       "InstanceNorm3d                            0          False     \n",
       "Dropout                                                        \n",
       "PReLU                                     1          True      \n",
       "Conv3d                                    110656     True      \n",
       "InstanceNorm3d                            0          False     \n",
       "Dropout                                                        \n",
       "PReLU                                     1          True      \n",
       "Identity                                                       \n",
       "____________________________________________________________________________\n",
       "                     4 x 32 x 36 x 64 x  \n",
       "ConvTranspose3d                           110624     True      \n",
       "InstanceNorm3d                            0          False     \n",
       "Dropout                                                        \n",
       "PReLU                                     1          True      \n",
       "Conv3d                                    27680      True      \n",
       "InstanceNorm3d                            0          False     \n",
       "Dropout                                                        \n",
       "PReLU                                     1          True      \n",
       "Identity                                                       \n",
       "____________________________________________________________________________\n",
       "                     4 x 16 x 72 x 128 x \n",
       "ConvTranspose3d                           27664      True      \n",
       "InstanceNorm3d                            0          False     \n",
       "Dropout                                                        \n",
       "PReLU                                     1          True      \n",
       "Conv3d                                    6928       True      \n",
       "InstanceNorm3d                            0          False     \n",
       "Dropout                                                        \n",
       "PReLU                                     1          True      \n",
       "Identity                                                       \n",
       "____________________________________________________________________________\n",
       "                     4 x 1 x 144 x 256 x \n",
       "ConvTranspose3d                           865        True      \n",
       "InstanceNorm3d                            0          False     \n",
       "Dropout                                                        \n",
       "PReLU                                     1          True      \n",
       "Conv3d                                    28         True      \n",
       "Identity                                                       \n",
       "____________________________________________________________________________\n",
       "\n",
       "Total params: 4,807,262\n",
       "Total trainable params: 4,807,262\n",
       "Total non-trainable params: 0\n",
       "\n",
       "Optimizer used: <function ranger at 0x7fb6787da550>\n",
       "Loss function: DiceLoss()\n",
       "\n",
       "Callbacks:\n",
       "  - TrainEvalCallback\n",
       "  - Recorder\n",
       "  - ProgressCallback"
      ]
     },
     "execution_count": 17,
     "metadata": {},
     "output_type": "execute_result"
    }
   ],
   "source": [
    "learn.summary()"
   ]
  },
  {
   "cell_type": "markdown",
   "metadata": {},
   "source": [
    "# 4. Training\n",
    "`lr.lr_find()` helps us to find an optimum learning rate value. It uses the technique described in [Cyclical Learning Rates for Training Neural Networks](https://arxiv.org/pdf/1506.01186.pdf). The learning rate is increased from a small value until the loss stops decreasing. "
   ]
  },
  {
   "cell_type": "code",
   "execution_count": 18,
   "metadata": {},
   "outputs": [
    {
     "data": {
      "text/html": [],
      "text/plain": [
       "<IPython.core.display.HTML object>"
      ]
     },
     "metadata": {},
     "output_type": "display_data"
    },
    {
     "name": "stderr",
     "output_type": "stream",
     "text": [
      "color is redundantly defined by the 'color' keyword argument and the fmt string \"ro\" (-> color='r'). The keyword argument will take precedence.\n"
     ]
    },
    {
     "data": {
      "image/png": "[encoded data removed]",
      "text/plain": [
       "<Figure size 432x288 with 1 Axes>"
      ]
     },
     "metadata": {
      "needs_background": "light"
     },
     "output_type": "display_data"
    }
   ],
   "source": [
    "lr_min = learn.lr_find()"
   ]
  },
  {
   "cell_type": "code",
   "execution_count": 18,
   "metadata": {},
   "outputs": [],
   "source": [
    "lr = 1e-1"
   ]
  },
  {
   "cell_type": "markdown",
   "metadata": {},
   "source": [
    "`fit_flat_cos()` callback decreases the learning rate rapidly during the final few epochs using a cosine annealing scheduler (as shown in cell 22). This is related to the concept of [super-convergence](https://arxiv.org/pdf/1708.07120.pdf). "
   ]
  },
  {
   "cell_type": "code",
   "execution_count": 19,
   "metadata": {},
   "outputs": [
    {
     "data": {
      "text/html": [
       "<table border=\"1\" class=\"dataframe\">\n",
       "  <thead>\n",
       "    <tr style=\"text-align: left;\">\n",
       "      <th>epoch</th>\n",
       "      <th>train_loss</th>\n",
       "      <th>valid_loss</th>\n",
       "      <th>time</th>\n",
       "    </tr>\n",
       "  </thead>\n",
       "  <tbody>\n",
       "    <tr>\n",
       "      <td>0</td>\n",
       "      <td>0.961137</td>\n",
       "      <td>0.961457</td>\n",
       "      <td>00:32</td>\n",
       "    </tr>\n",
       "    <tr>\n",
       "      <td>1</td>\n",
       "      <td>0.939144</td>\n",
       "      <td>0.928923</td>\n",
       "      <td>00:23</td>\n",
       "    </tr>\n",
       "    <tr>\n",
       "      <td>2</td>\n",
       "      <td>0.899428</td>\n",
       "      <td>0.872213</td>\n",
       "      <td>00:23</td>\n",
       "    </tr>\n",
       "    <tr>\n",
       "      <td>3</td>\n",
       "      <td>0.854666</td>\n",
       "      <td>0.925487</td>\n",
       "      <td>00:22</td>\n",
       "    </tr>\n",
       "    <tr>\n",
       "      <td>4</td>\n",
       "      <td>0.780743</td>\n",
       "      <td>0.703160</td>\n",
       "      <td>00:22</td>\n",
       "    </tr>\n",
       "  </tbody>\n",
       "</table>"
      ],
      "text/plain": [
       "<IPython.core.display.HTML object>"
      ]
     },
     "metadata": {},
     "output_type": "display_data"
    }
   ],
   "source": [
    "learn.fit_flat_cos(5, lr)"
   ]
  },
  {
   "cell_type": "code",
   "execution_count": 21,
   "metadata": {},
   "outputs": [
    {
     "data": {
      "text/plain": [
       "Path('models/model.pth')"
      ]
     },
     "execution_count": 21,
     "metadata": {},
     "output_type": "execute_result"
    }
   ],
   "source": [
    "learn.save('model')"
   ]
  },
  {
   "cell_type": "code",
   "execution_count": 22,
   "metadata": {},
   "outputs": [
    {
     "data": {
      "image/png": "[encoded data removed]",
      "text/plain": [
       "<Figure size 432x288 with 1 Axes>"
      ]
     },
     "metadata": {
      "needs_background": "light"
     },
     "output_type": "display_data"
    }
   ],
   "source": [
    "learn.recorder.plot_sched()"
   ]
  },
  {
   "cell_type": "markdown",
   "metadata": {},
   "source": [
    "# 5. Inference\n",
    "Loading in our final model (trained for 60 epochs) and predicting on the validation set `(ds_idx=1)` from the dataloader."
   ]
  },
  {
   "cell_type": "code",
   "execution_count": 23,
   "metadata": {},
   "outputs": [],
   "source": [
    "learn.load('final_model');"
   ]
  },
  {
   "cell_type": "code",
   "execution_count": 24,
   "metadata": {},
   "outputs": [
    {
     "data": {
      "text/html": [],
      "text/plain": [
       "<IPython.core.display.HTML object>"
      ]
     },
     "metadata": {},
     "output_type": "display_data"
    }
   ],
   "source": [
    "input_imgs, preds,targs = learn.get_preds(ds_idx=1, with_input=True)"
   ]
  },
  {
   "cell_type": "code",
   "execution_count": 25,
   "metadata": {},
   "outputs": [
    {
     "data": {
      "text/plain": [
       "(torch.Size([15, 1, 144, 304, 304]), torch.Size([15, 1, 144, 304, 304]))"
      ]
     },
     "execution_count": 25,
     "metadata": {},
     "output_type": "execute_result"
    }
   ],
   "source": [
    "preds.shape, targs.shape"
   ]
  },
  {
   "cell_type": "code",
   "execution_count": 26,
   "metadata": {},
   "outputs": [],
   "source": [
    "idx = -1 \n",
    "targ, pred = targs[idx], torch.sigmoid(preds[idx])\n",
    "pred = np.where(pred >= 0.5, 1, 0)"
   ]
  },
  {
   "cell_type": "code",
   "execution_count": 27,
   "metadata": {},
   "outputs": [
    {
     "data": {
      "image/png": "[encoded data removed]",
      "text/plain": [
       "<Figure size 720x720 with 2 Axes>"
      ]
     },
     "metadata": {
      "needs_background": "light"
     },
     "output_type": "display_data"
    }
   ],
   "source": [
    "show_targ_pred_masks(targ, pred, slice_nr=72)"
   ]
  }
 ],
 "metadata": {
  "kernelspec": {
   "display_name": "Python3 (fastai-v241-monai)",
   "language": "python",
   "name": "fastai-v241-monai"
  },
  "language_info": {
   "codemirror_mode": {
    "name": "ipython",
    "version": 3
   },
   "file_extension": ".py",
   "mimetype": "text/x-python",
   "name": "python",
   "nbconvert_exporter": "python",
   "pygments_lexer": "ipython3",
   "version": "3.8.10"
  }
 },
 "nbformat": 4,
 "nbformat_minor": 4
}
